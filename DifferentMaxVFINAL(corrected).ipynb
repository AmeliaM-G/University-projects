{
 "cells": [
  {
   "cell_type": "markdown",
   "metadata": {},
   "source": [
    "Mini-Project Motorway Madness 2\n",
    "<br>velocity and position in seperate arrays"
   ]
  },
  {
   "cell_type": "code",
   "execution_count": 87,
   "metadata": {
    "collapsed": true
   },
   "outputs": [],
   "source": [
    "import numpy as np\n",
    "import matplotlib.pyplot as plt"
   ]
  },
  {
   "cell_type": "markdown",
   "metadata": {},
   "source": [
    "Initial setup for one lane system:"
   ]
  },
  {
   "cell_type": "code",
   "execution_count": 88,
   "metadata": {
    "collapsed": true
   },
   "outputs": [],
   "source": [
    "leng= 200\n",
    "lanes= 3\n",
    "objects= 70\n",
    "p=0.25 #probability of dawdling\n",
    "#can be changed"
   ]
  },
  {
   "cell_type": "code",
   "execution_count": 89,
   "metadata": {
    "collapsed": true
   },
   "outputs": [],
   "source": [
    "vmin=3 #universal minimum initial velocity\n",
    "bicyclemax=5\n",
    "lorrymax=10\n",
    "carmax=15"
   ]
  },
  {
   "cell_type": "code",
   "execution_count": 90,
   "metadata": {
    "collapsed": true
   },
   "outputs": [],
   "source": [
    "vel= np.zeros(objects) #base array for velocities of inputted number of vehicles\n",
    "vmax=np.zeros(objects)\n",
    "vehicles=np.array([bicyclemax,lorrymax,carmax])\n",
    "\n",
    "for i in range(len(vel)):\n",
    "    vmax[i]=vehicles[np.random.randint(0,len(vehicles))]\n",
    "    vel[i]=np.random.randint(vmin,vmax[i]+1) #pick random integer between vmin and vmax (vmax included)"
   ]
  },
  {
   "cell_type": "code",
   "execution_count": 91,
   "metadata": {
    "collapsed": true
   },
   "outputs": [],
   "source": [
    "positions= np.zeros([objects,2]) #base array for positions, an array of objects(number) arrays of length two where the second index in the arrays of length two is the lane.\n",
    "    \n",
    "for i in range(objects):\n",
    "    space= leng/objects\n",
    "    positions[i,0]=int(i*space)\n",
    "    positions[i,1]=np.random.randint(1,lanes+1)"
   ]
  },
  {
   "cell_type": "markdown",
   "metadata": {},
   "source": [
    "implementing rules:"
   ]
  },
  {
   "cell_type": "code",
   "execution_count": 92,
   "metadata": {
    "collapsed": true
   },
   "outputs": [],
   "source": [
    "def change(vel,pos,vmax):\n",
    "    \"\"\"implements the rules: if v<vmax and distance to next car>v+1, v increases by 1; and if driver at i sees driver at i+j,v, v=j-1. Then advances each vehicle by v sites.\n",
    "    takes inputs of vel: an array of initial velocities and pos: an array of initial positions, vmax: array of maximum velocity for each vehicle\n",
    "    will out put an array of new velocities and an array of new positions\"\"\"\n",
    "    \n",
    "    foundk=False\n",
    "    foundl=False\n",
    "    #changing lane to right\n",
    "    for i in range(objects-1):\n",
    "        for k in range(1,objects-i):\n",
    "            if pos[i,1]==pos[i+k,1] and pos[i+k,0]-pos[i,0]<=vel[i] and pos[i,1]<lanes:\n",
    "                foundk=True\n",
    "                for l in range(1,objects-i):\n",
    "                    if pos[i+l,1]==pos[i,1]+1 and pos[i+l,0]-pos[i,0]>vel[i]:\n",
    "                        foundl=True\n",
    "                        pos[i,1]+=1\n",
    "                    if foundl==True:\n",
    "                        foundl=False\n",
    "                        break\n",
    "            if foundk==True:\n",
    "                foundk=False\n",
    "                break\n",
    "    #Changing lane to left           \n",
    "    for i in range(objects-1):\n",
    "        for k in range(1,objects-i):\n",
    "            if pos[i,1]==pos[i+k,1] and pos[i+k,0]-pos[i,0]<=vel[i] and pos[i,1]>1:\n",
    "                foundk=True\n",
    "                for l in range(1,objects-i):\n",
    "                    if pos[i+l,1]==pos[i,1]-1 and pos[i+l,0]-pos[i,0]>vel[i]:\n",
    "                        foundl=True\n",
    "                        pos[i,1]-=1\n",
    "                    if foundl==True:\n",
    "                        foundl=False\n",
    "                        break\n",
    "            if foundk==True:\n",
    "                foundk=False\n",
    "                break\n",
    "                  \n",
    "    #changing velocity array\n",
    "    foundj=False\n",
    "    for i in range(objects-1):\n",
    "        for j in range(0,objects-i):\n",
    "            if pos[i,1]==pos[i+j,1] and vel[i]<vmax[i] and pos[i+j,0]-pos[i,0]>vel[i]+1:\n",
    "                foundj=True\n",
    "                vel[i] +=1\n",
    "            elif pos[i,1]==pos[i+j,1] and pos[i+j,0]-pos[i,0]<=vel[i]:\n",
    "                foundj=True\n",
    "                vel[i]= pos[i+1,0]-pos[i,0] -1\n",
    "            if foundj==True:\n",
    "                foundj=False\n",
    "                break\n",
    "            \n",
    "        num=np.random.random() #picking a random value between 0 and 1\n",
    "        if num<=p and vel[i]>0:\n",
    "            vel[i]-=1\n",
    "            \n",
    "    \n",
    "    #below is for the first vehicle in each lane\n",
    "    firstcarindex=np.zeros(lanes)\n",
    "    lastcarindex=np.zeros(lanes)\n",
    "    for i in range(lanes): #i=0,1,2\n",
    "        if len(np.where(pos[:,1]==i+1)[0])>0:\n",
    "            firstcarindex[i]=np.min(np.where(pos[:,1]==i+1)) #gives index of first car in each lane\n",
    "            lastcarindex[i]=np.max(np.where(pos[:,1]==i+1))#gives index of last car in each lane\n",
    "        \n",
    "            if vel[int(lastcarindex[i])]<vmax[int(lastcarindex[i])] and pos[int(firstcarindex[i]),0]-pos[int(lastcarindex[i]),0]+leng>vel[int(lastcarindex[i])]+1:\n",
    "                vel[int(lastcarindex[i])] +=1\n",
    "            elif pos[int(firstcarindex[i]),0]-pos[int(lastcarindex[i]),0]+leng<=vel[int(lastcarindex[i])]:\n",
    "                vel[int(lastcarindex[i])]= pos[int(firstcarindex[i]),0]-pos[int(lastcarindex[i]),0]+leng -1\n",
    "            \n",
    "    num=np.random.random() #picking a random value between 0 and 1\n",
    "    if num<=p:\n",
    "        vel[objects-1]-=1 \n",
    "    \n",
    "    \n",
    "    #changing position array\n",
    "    for i in range(objects):\n",
    "        pos[i,0]+= vel[i]\n",
    "    \n",
    "        if pos[i,0]>leng-1: #-1 because pos[i,0] counts from 0\n",
    "            pos[i,0]-=leng #if the length of the track is exceeded take vehicle back to beginning of track\n",
    "   \n",
    "    #rolling position and velocity arrays so vehicles are in correct order:\n",
    "    #creating structured array to us np.sort on column and sort the velocity array at the same time\n",
    "    structuredarray=np.zeros(objects,dtype={'names':['position','lane','velocity','maxVelocity'],'formats':['i4','i4','i4','i4']})\n",
    "    structuredarray['position']=pos[:,0]\n",
    "    structuredarray['lane']=pos[:,1]\n",
    "    structuredarray['velocity']=vel\n",
    "    structuredarray['maxVelocity']=vmax\n",
    "    #sorting structured array\n",
    "    structuredarray = np.sort(structuredarray,order='position')\n",
    "    #splitting back into usual arrays\n",
    "    pos[:,0]=structuredarray['position']\n",
    "    pos[:,1]=structuredarray['lane']\n",
    "    vel=structuredarray['velocity']\n",
    "    vmax=structuredarray['maxVelocity']\n",
    "    \n",
    "    return vel, pos, vmax"
   ]
  },
  {
   "cell_type": "code",
   "execution_count": 93,
   "metadata": {
    "collapsed": true
   },
   "outputs": [],
   "source": [
    "def basicplot(positions):\n",
    "    \"\"\"converts the positions array used for updating the simulation into an array more useful for plotting data.\n",
    "    Inputs: positions: array of positions and lanes for each vehicle\n",
    "    outputs: an array of length equal to the length of the road and width equal to the number of lanes, each element will be filled with either 0 or 1, representing empty or occupied\"\"\"\n",
    "    \n",
    "    array=np.zeros((leng,lanes))\n",
    "    \n",
    "    for i in range(objects):\n",
    "        j=int(positions[i,0]) #position along length of road\n",
    "        k=int(positions[i,1])-1 #lane (-1 to count from 0)\n",
    "        \n",
    "        array[j,k]=1\n",
    "        \n",
    "    return array"
   ]
  },
  {
   "cell_type": "code",
   "execution_count": 94,
   "metadata": {
    "collapsed": true
   },
   "outputs": [],
   "source": [
    "def velplot(positions,vel):\n",
    "    \"\"\"converts the positions and velocity arrays used for updating the simulation into an array more useful for plotting data.\n",
    "    Inputs: positions: array of positions and lanes for each vehicle, vel:array of velocities for each vehicle\n",
    "    outputs: an array of length equal to the length of the road and width equal to the number of lanes, each element will be filled with either 0 or a number, representing empty or occupied, the value of the number represents the velocity\"\"\"\n",
    "    \n",
    "    array=np.zeros((leng,lanes))\n",
    "    \n",
    "    for i in range(objects):\n",
    "        j=int(positions[i,0]) #position along length of road\n",
    "        k=int(positions[i,1])-1 #lane (-1 to count from 0)\n",
    "        \n",
    "        array[j,k]=vel[i] + 1 #+1 so vehicles with velocity 0 can still be seen\n",
    "        \n",
    "    return array"
   ]
  },
  {
   "cell_type": "code",
   "execution_count": 95,
   "metadata": {
    "scrolled": false
   },
   "outputs": [
    {
     "data": {
      "image/png": "[encoded data removed]",
      "text/plain": [
       "<matplotlib.figure.Figure at 0x274f6b04828>"
      ]
     },
     "metadata": {},
     "output_type": "display_data"
    },
    {
     "data": {
      "image/png": "[encoded data removed]",
      "text/plain": [
       "<matplotlib.figure.Figure at 0x274f6dcdac8>"
      ]
     },
     "metadata": {},
     "output_type": "display_data"
    },
    {
     "data": {
      "image/png": "[encoded data removed]",
      "text/plain": [
       "<matplotlib.figure.Figure at 0x274f6b3cbe0>"
      ]
     },
     "metadata": {},
     "output_type": "display_data"
    }
   ],
   "source": [
    "fig=plt.figure()\n",
    "plt.title(\"Simple position plot, not including lanes\")\n",
    "\n",
    "figbasic=plt.figure(figsize=(10,5))\n",
    "plt.title(\"Position along road and lane\")\n",
    "\n",
    "figvel=plt.figure(figsize=(10,5))\n",
    "plt.title(\"Position along road and lane with colour indicating velocity\")\n",
    "\n",
    "index=1 #for subplots\n",
    "\n",
    "for i in range(100):\n",
    "    vel, positions, vmax = change(vel,positions,vmax)\n",
    "    time=np.zeros(objects)\n",
    "    time+=i\n",
    "    \n",
    "    #plots\n",
    "    if i%10==0 or i==0:\n",
    "        #lanes not shown\n",
    "        ax=fig.add_subplot(10,1,index)\n",
    "        ax.plot(positions[:,0],time,'.')\n",
    "        ax.set_axis_off()\n",
    "        \n",
    "        #basic\n",
    "        axbasic=figbasic.add_subplot(10,1,index)\n",
    "        axbasic.imshow(basicplot(positions).T)\n",
    "        axbasic.set_axis_off()\n",
    "        \n",
    "        #vel\n",
    "        axvel=figvel.add_subplot(10,1,index)\n",
    "        axvel.imshow(velplot(positions,vel).T)\n",
    "        axvel.set_axis_off()\n",
    "        \n",
    "        index+=1\n",
    "plt.show()"
   ]
  },
  {
   "cell_type": "code",
   "execution_count": 96,
   "metadata": {},
   "outputs": [
    {
     "data": {
      "image/png": "[encoded data removed]",
      "text/plain": [
       "<matplotlib.figure.Figure at 0x274f6ad12b0>"
      ]
     },
     "metadata": {},
     "output_type": "display_data"
    }
   ],
   "source": [
    "#final positions after 100 iterations\n",
    "plot=basicplot(positions)\n",
    "\n",
    "plt.figure(figsize=(10,15))\n",
    "plt.imshow(plot.T)\n",
    "plt.title(\"Final positions\")\n",
    "plt.show()"
   ]
  },
  {
   "cell_type": "code",
   "execution_count": 97,
   "metadata": {},
   "outputs": [
    {
     "data": {
      "image/png": "[encoded data removed]",
      "text/plain": [
       "<matplotlib.figure.Figure at 0x274f4404c88>"
      ]
     },
     "metadata": {},
     "output_type": "display_data"
    }
   ],
   "source": [
    "#final positions (and velocities) after 100 iterations\n",
    "velplot=velplot(positions,vel)\n",
    "\n",
    "plt.figure(figsize=(10,15))\n",
    "plt.title(\"Final positions and velocities\")\n",
    "plt.imshow(velplot.T)\n",
    "plt.show()"
   ]
  },
  {
   "cell_type": "markdown",
   "metadata": {
    "collapsed": true
   },
   "source": [
    "This is the completed, final system for different maximum velocities."
   ]
  }
 ],
 "metadata": {
  "kernelspec": {
   "display_name": "Python 3",
   "language": "python",
   "name": "python3"
  },
  "language_info": {
   "codemirror_mode": {
    "name": "ipython",
    "version": 3
   },
   "file_extension": ".py",
   "mimetype": "text/x-python",
   "name": "python",
   "nbconvert_exporter": "python",
   "pygments_lexer": "ipython3",
   "version": "3.6.2"
  }
 },
 "nbformat": 4,
 "nbformat_minor": 2
}
