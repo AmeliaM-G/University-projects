{
 "cells": [
  {
   "cell_type": "markdown",
   "metadata": {},
   "source": [
    "Mini-Project Motorway Madness 2\n",
    "<br>velocity and position in seperate arrays"
   ]
  },
  {
   "cell_type": "code",
   "execution_count": 1,
   "metadata": {
    "collapsed": true
   },
   "outputs": [],
   "source": [
    "import numpy as np\n",
    "import matplotlib.pyplot as plt"
   ]
  },
  {
   "cell_type": "markdown",
   "metadata": {},
   "source": [
    "Initial setup for one lane system:"
   ]
  },
  {
   "cell_type": "code",
   "execution_count": 2,
   "metadata": {
    "collapsed": true
   },
   "outputs": [],
   "source": [
    "leng= 200\n",
    "objects= 30\n",
    "vmin= 5\n",
    "vmax= 10\n",
    "p=0.25 #probability of dawdling\n",
    "#can be changed"
   ]
  },
  {
   "cell_type": "code",
   "execution_count": 3,
   "metadata": {
    "collapsed": true
   },
   "outputs": [],
   "source": [
    "vel= np.zeros(objects) #base array for velocities of inputted number of vehicles\n",
    "\n",
    "for i in range(len(vel)):\n",
    "    vel[i]=np.random.randint(vmin,vmax+1) #pick random integer between vmin and vmax (vmax included)"
   ]
  },
  {
   "cell_type": "code",
   "execution_count": 4,
   "metadata": {
    "collapsed": true
   },
   "outputs": [],
   "source": [
    "positions= np.zeros(objects) #base array for positions\n",
    "    \n",
    "for i in range(objects):\n",
    "    space= leng/objects\n",
    "    positions[i]=int(i*space)"
   ]
  },
  {
   "cell_type": "markdown",
   "metadata": {},
   "source": [
    "implementing rules:"
   ]
  },
  {
   "cell_type": "code",
   "execution_count": 5,
   "metadata": {
    "collapsed": true
   },
   "outputs": [],
   "source": [
    "def change(vel,pos):\n",
    "    \"\"\"implements the rules: if v<vmax and distance to next car>v+1, v increases by 1; and if driver at i sees driver at i+j,v, v=j-1. Then advances each vehicle by v sites.\n",
    "    takes inputs of vel: an array of initial velocities and pos: an array of initial positions\n",
    "    will out put an array of new velocities and an array of new positions\"\"\"\n",
    "    #changing velocity array\n",
    "    for i in range(objects-1):\n",
    "        if vel[i]<vmax and pos[i+1]-pos[i]>vel[i]+1:\n",
    "            vel[i] +=1\n",
    "        elif pos[i+1]-pos[i]<=vel[i]:\n",
    "            vel[i]= pos[i+1]-pos[i] -1\n",
    "            \n",
    "        num=np.random.random() #picking a random value between 0 and 1\n",
    "        if num<=p and vel[i]>0:\n",
    "            vel[i]-=1\n",
    "            \n",
    "    \n",
    "    #below is for the first vehicle\n",
    "    if vel[objects-1]<vmax and pos[0]-pos[objects-1]+leng>vel[objects-1]+1:\n",
    "        vel[objects-1] +=1\n",
    "    elif pos[0]-pos[objects-1]+leng<=vel[objects-1]:\n",
    "        vel[objects-1]= pos[0]-pos[objects-1]+leng -1\n",
    "            \n",
    "    num=np.random.random() #picking a random value between 0 and 1\n",
    "    if num<=p:\n",
    "        vel[objects-1]-=1   \n",
    "    \n",
    "    \n",
    "    #changing position array\n",
    "    for i in range(objects):\n",
    "        pos[i]+= vel[i]\n",
    "    \n",
    "        if pos[i]>leng-1:#-1 because pos[i,0] counts from 0\n",
    "            pos[i]-=leng #if the length of the track is exceeded take vehicle back to beginning of track\n",
    "   \n",
    "\n",
    "\n",
    "    #below rolls the arrays so the vehicles which have gone back to the start of the track are in the right position in the array\n",
    "    for j in range(1,objects):\n",
    "        if pos[j]<pos[j-1]:\n",
    "            pos=np.roll(pos,1)\n",
    "            vel=np.roll(vel,1)\n",
    "    \n",
    "    \n",
    "    return vel, pos"
   ]
  },
  {
   "cell_type": "code",
   "execution_count": 6,
   "metadata": {
    "collapsed": true,
    "scrolled": false
   },
   "outputs": [],
   "source": [
    "def basicplot(positions):\n",
    "    \"\"\"converts the positions array used for updating the simulation into an array more useful for plotting data.\n",
    "    Inputs: positions: array of positions for each vehicle\n",
    "    outputs: an array of length equal to the length of the road, each element will be filled with either 0 or 1, representing empty or occupied\"\"\"\n",
    "    \n",
    "    array=np.zeros((leng,3)) #need a 2D array to use imshow, 3 used for symmetry\n",
    "    \n",
    "    for i in range(objects):\n",
    "        j=int(positions[i]) #position along length of road\n",
    "        \n",
    "        array[j,1]=1 #positions are put in middle column\n",
    "        \n",
    "    return array"
   ]
  },
  {
   "cell_type": "code",
   "execution_count": 7,
   "metadata": {
    "collapsed": true
   },
   "outputs": [],
   "source": [
    "def velplot(positions,vel):\n",
    "    \"\"\"converts the positions and velocity arrays used for updating the simulation into an array more useful for plotting data.\n",
    "    Inputs: positions: array of positions for each vehicle, vel:array of velocities for each vehicle\n",
    "    outputs: an array of length equal to the length of the road, each element will be filled with either 0 or a number, representing empty or occupied, the value of the number represents the velocity\"\"\"\n",
    "    \n",
    "    array=np.zeros((leng,3)) #need a 2D array to use imshow, 3 used for symmetry\n",
    "    \n",
    "    for i in range(objects):\n",
    "        j=int(positions[i]) #position along length of road\n",
    "        \n",
    "        array[j,1]=vel[i] + 1 #+1 so vehicles with velocity 0 can still be seen\n",
    "        \n",
    "    return array"
   ]
  },
  {
   "cell_type": "code",
   "execution_count": 8,
   "metadata": {},
   "outputs": [
    {
     "data": {
      "image/png": "[encoded data removed]",
      "text/plain": [
       "<matplotlib.figure.Figure at 0x1c534c11518>"
      ]
     },
     "metadata": {},
     "output_type": "display_data"
    },
    {
     "data": {
      "image/png": "[encoded data removed]",
      "text/plain": [
       "<matplotlib.figure.Figure at 0x1c534c11c88>"
      ]
     },
     "metadata": {},
     "output_type": "display_data"
    },
    {
     "data": {
      "image/png": "[encoded data removed]",
      "text/plain": [
       "<matplotlib.figure.Figure at 0x1c534caa668>"
      ]
     },
     "metadata": {},
     "output_type": "display_data"
    }
   ],
   "source": [
    "fig=plt.figure()\n",
    "plt.title(\"Simple position plot\")\n",
    "\n",
    "figbasic=plt.figure(figsize=(10,5))\n",
    "plt.title(\"Position along road\")\n",
    "\n",
    "figvel=plt.figure(figsize=(10,5))\n",
    "plt.title(\"Position along road with colour indicating velocity\")\n",
    "\n",
    "index=1 #for subplots\n",
    "\n",
    "for i in range(100):\n",
    "    vel, positions= change(vel,positions)\n",
    "    time=np.zeros(objects)\n",
    "    time+=i\n",
    "    \n",
    "    #plots\n",
    "    if i%10==0 or i==0:\n",
    "        #lanes not shown\n",
    "        ax=fig.add_subplot(10,1,index)\n",
    "        ax.plot(positions,time,'.')\n",
    "        ax.set_axis_off()\n",
    "        \n",
    "        #basic\n",
    "        axbasic=figbasic.add_subplot(10,1,index)\n",
    "        axbasic.imshow(basicplot(positions).T)\n",
    "        axbasic.set_axis_off()\n",
    "        \n",
    "        #vel\n",
    "        axvel=figvel.add_subplot(10,1,index)\n",
    "        axvel.imshow(velplot(positions,vel).T)\n",
    "        axvel.set_axis_off()\n",
    "        \n",
    "        index+=1\n",
    "plt.show()"
   ]
  },
  {
   "cell_type": "code",
   "execution_count": 9,
   "metadata": {},
   "outputs": [
    {
     "data": {
      "image/png": "[encoded data removed]",
      "text/plain": [
       "<matplotlib.figure.Figure at 0x1c534c22e48>"
      ]
     },
     "metadata": {},
     "output_type": "display_data"
    }
   ],
   "source": [
    "#final positions after 100 iterations:\n",
    "plot=basicplot(positions)\n",
    "\n",
    "plt.figure(figsize=(10,15))\n",
    "plt.imshow(plot.T)\n",
    "plt.title(\"Final positions\")\n",
    "plt.show()"
   ]
  },
  {
   "cell_type": "code",
   "execution_count": 10,
   "metadata": {},
   "outputs": [
    {
     "data": {
      "image/png": "[encoded data removed]",
      "text/plain": [
       "<matplotlib.figure.Figure at 0x1c537191f60>"
      ]
     },
     "metadata": {},
     "output_type": "display_data"
    }
   ],
   "source": [
    "#final positions (and velocities) after 100 iterations\n",
    "velplot=velplot(positions,vel)\n",
    "\n",
    "plt.figure(figsize=(10,15))\n",
    "plt.imshow(velplot.T)\n",
    "plt.title(\"Final positions and velocities\")\n",
    "plt.show()"
   ]
  },
  {
   "cell_type": "markdown",
   "metadata": {
    "collapsed": true
   },
   "source": [
    "This is the completed, final single lane system."
   ]
  }
 ],
 "metadata": {
  "kernelspec": {
   "display_name": "Python 3",
   "language": "python",
   "name": "python3"
  },
  "language_info": {
   "codemirror_mode": {
    "name": "ipython",
    "version": 3
   },
   "file_extension": ".py",
   "mimetype": "text/x-python",
   "name": "python",
   "nbconvert_exporter": "python",
   "pygments_lexer": "ipython3",
   "version": "3.6.2"
  }
 },
 "nbformat": 4,
 "nbformat_minor": 2
}
